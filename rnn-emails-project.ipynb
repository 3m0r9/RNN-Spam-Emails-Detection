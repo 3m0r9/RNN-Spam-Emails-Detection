{
 "cells": [
  {
   "cell_type": "code",
   "execution_count": 1,
   "id": "c883c8d5",
   "metadata": {
    "_cell_guid": "b1076dfc-b9ad-4769-8c92-a6c4dae69d19",
    "_uuid": "8f2839f25d086af736a60e9eeb907d3b93b6e0e5",
    "execution": {
     "iopub.execute_input": "2024-07-10T21:02:46.543802Z",
     "iopub.status.busy": "2024-07-10T21:02:46.543369Z",
     "iopub.status.idle": "2024-07-10T21:02:47.486858Z",
     "shell.execute_reply": "2024-07-10T21:02:47.485404Z"
    },
    "papermill": {
     "duration": 0.959553,
     "end_time": "2024-07-10T21:02:47.489785",
     "exception": false,
     "start_time": "2024-07-10T21:02:46.530232",
     "status": "completed"
    },
    "tags": []
   },
   "outputs": [],
   "source": [
    "# This Python 3 environment comes with many helpful analytics libraries installed\n",
    "# It is defined by the kaggle/python Docker image: https://github.com/kaggle/docker-python\n",
    "# For example, here's several helpful packages to load\n",
    "\n",
    "import numpy as np # linear algebra\n",
    "import pandas as pd # data processing, CSV file I/O (e.g. pd.read_csv)\n",
    "\n",
    "# Input data files are available in the read-only \"../input/\" directory\n",
    "# For example, running this (by clicking run or pressing Shift+Enter) will list all files under the input directory\n",
    "\n",
    "#import os\n",
    "#for dirname, _, filenames in os.walk('/kaggle/input'):\n",
    "    #for filename in filenames:\n",
    "        #print(os.path.join(dirname, filename))\n",
    "\n",
    "# You can write up to 20GB to the current directory (/kaggle/working/) that gets preserved as output when you create a version using \"Save & Run All\" \n",
    "# You can also write temporary files to /kaggle/temp/, but they won't be saved outside of the current session"
   ]
  },
  {
   "cell_type": "code",
   "execution_count": 2,
   "id": "81bfc93f",
   "metadata": {
    "execution": {
     "iopub.execute_input": "2024-07-10T21:02:47.512857Z",
     "iopub.status.busy": "2024-07-10T21:02:47.511331Z",
     "iopub.status.idle": "2024-07-10T21:03:04.333554Z",
     "shell.execute_reply": "2024-07-10T21:03:04.332355Z"
    },
    "papermill": {
     "duration": 16.835854,
     "end_time": "2024-07-10T21:03:04.335829",
     "exception": false,
     "start_time": "2024-07-10T21:02:47.499975",
     "status": "completed"
    },
    "tags": []
   },
   "outputs": [
    {
     "name": "stderr",
     "output_type": "stream",
     "text": [
      "2024-07-10 21:02:52.306000: E external/local_xla/xla/stream_executor/cuda/cuda_dnn.cc:9261] Unable to register cuDNN factory: Attempting to register factory for plugin cuDNN when one has already been registered\n",
      "2024-07-10 21:02:52.306137: E external/local_xla/xla/stream_executor/cuda/cuda_fft.cc:607] Unable to register cuFFT factory: Attempting to register factory for plugin cuFFT when one has already been registered\n",
      "2024-07-10 21:02:52.475361: E external/local_xla/xla/stream_executor/cuda/cuda_blas.cc:1515] Unable to register cuBLAS factory: Attempting to register factory for plugin cuBLAS when one has already been registered\n"
     ]
    },
    {
     "name": "stdout",
     "output_type": "stream",
     "text": [
      "[nltk_data] Downloading package stopwords to /usr/share/nltk_data...\n",
      "[nltk_data]   Package stopwords is already up-to-date!\n"
     ]
    },
    {
     "data": {
      "text/plain": [
       "True"
      ]
     },
     "execution_count": 2,
     "metadata": {},
     "output_type": "execute_result"
    }
   ],
   "source": [
    "import numpy as np\n",
    "import pandas as pd\n",
    "import matplotlib.pyplot as plt\n",
    "import seaborn as sns\n",
    "\n",
    "import string\n",
    "import nltk\n",
    "from nltk.corpus import stopwords\n",
    "import tensorflow as tf\n",
    "from tensorflow.keras.preprocessing.text import Tokenizer\n",
    "from tensorflow.keras.preprocessing.sequence import pad_sequences\n",
    "from wordcloud import WordCloud\n",
    "from sklearn.model_selection import train_test_split\n",
    "from keras.callbacks import EarlyStopping , ReduceLROnPlateau\n",
    "from sklearn.preprocessing import LabelEncoder\n",
    "\n",
    "nltk.download(\"stopwords\")"
   ]
  },
  {
   "cell_type": "code",
   "execution_count": 3,
   "id": "6d715a8c",
   "metadata": {
    "execution": {
     "iopub.execute_input": "2024-07-10T21:03:04.358488Z",
     "iopub.status.busy": "2024-07-10T21:03:04.357748Z",
     "iopub.status.idle": "2024-07-10T21:03:04.408002Z",
     "shell.execute_reply": "2024-07-10T21:03:04.406875Z"
    },
    "papermill": {
     "duration": 0.064992,
     "end_time": "2024-07-10T21:03:04.410775",
     "exception": false,
     "start_time": "2024-07-10T21:03:04.345783",
     "status": "completed"
    },
    "tags": []
   },
   "outputs": [
    {
     "data": {
      "text/html": [
       "<div>\n",
       "<style scoped>\n",
       "    .dataframe tbody tr th:only-of-type {\n",
       "        vertical-align: middle;\n",
       "    }\n",
       "\n",
       "    .dataframe tbody tr th {\n",
       "        vertical-align: top;\n",
       "    }\n",
       "\n",
       "    .dataframe thead th {\n",
       "        text-align: right;\n",
       "    }\n",
       "</style>\n",
       "<table border=\"1\" class=\"dataframe\">\n",
       "  <thead>\n",
       "    <tr style=\"text-align: right;\">\n",
       "      <th></th>\n",
       "      <th>Category</th>\n",
       "      <th>Message</th>\n",
       "    </tr>\n",
       "  </thead>\n",
       "  <tbody>\n",
       "    <tr>\n",
       "      <th>0</th>\n",
       "      <td>ham</td>\n",
       "      <td>Go until jurong point, crazy.. Available only ...</td>\n",
       "    </tr>\n",
       "    <tr>\n",
       "      <th>1</th>\n",
       "      <td>ham</td>\n",
       "      <td>Ok lar... Joking wif u oni...</td>\n",
       "    </tr>\n",
       "    <tr>\n",
       "      <th>2</th>\n",
       "      <td>spam</td>\n",
       "      <td>Free entry in 2 a wkly comp to win FA Cup fina...</td>\n",
       "    </tr>\n",
       "    <tr>\n",
       "      <th>3</th>\n",
       "      <td>ham</td>\n",
       "      <td>U dun say so early hor... U c already then say...</td>\n",
       "    </tr>\n",
       "    <tr>\n",
       "      <th>4</th>\n",
       "      <td>ham</td>\n",
       "      <td>Nah I don't think he goes to usf, he lives aro...</td>\n",
       "    </tr>\n",
       "  </tbody>\n",
       "</table>\n",
       "</div>"
      ],
      "text/plain": [
       "  Category                                            Message\n",
       "0      ham  Go until jurong point, crazy.. Available only ...\n",
       "1      ham                      Ok lar... Joking wif u oni...\n",
       "2     spam  Free entry in 2 a wkly comp to win FA Cup fina...\n",
       "3      ham  U dun say so early hor... U c already then say...\n",
       "4      ham  Nah I don't think he goes to usf, he lives aro..."
      ]
     },
     "execution_count": 3,
     "metadata": {},
     "output_type": "execute_result"
    }
   ],
   "source": [
    "df=pd.read_csv(\"/kaggle/input/spam-emails/spam.csv\")\n",
    "df.head()"
   ]
  },
  {
   "cell_type": "code",
   "execution_count": 4,
   "id": "fec4f1fc",
   "metadata": {
    "execution": {
     "iopub.execute_input": "2024-07-10T21:03:04.433846Z",
     "iopub.status.busy": "2024-07-10T21:03:04.433075Z",
     "iopub.status.idle": "2024-07-10T21:03:04.440592Z",
     "shell.execute_reply": "2024-07-10T21:03:04.439471Z"
    },
    "papermill": {
     "duration": 0.021704,
     "end_time": "2024-07-10T21:03:04.443085",
     "exception": false,
     "start_time": "2024-07-10T21:03:04.421381",
     "status": "completed"
    },
    "tags": []
   },
   "outputs": [
    {
     "data": {
      "text/plain": [
       "'Go until jurong point, crazy.. Available only in bugis n great world la e buffet... Cine there got amore wat...'"
      ]
     },
     "execution_count": 4,
     "metadata": {},
     "output_type": "execute_result"
    }
   ],
   "source": [
    "df[\"Message\"][0]"
   ]
  },
  {
   "cell_type": "code",
   "execution_count": 5,
   "id": "c3da1158",
   "metadata": {
    "execution": {
     "iopub.execute_input": "2024-07-10T21:03:04.465668Z",
     "iopub.status.busy": "2024-07-10T21:03:04.465233Z",
     "iopub.status.idle": "2024-07-10T21:03:04.472378Z",
     "shell.execute_reply": "2024-07-10T21:03:04.471265Z"
    },
    "papermill": {
     "duration": 0.021214,
     "end_time": "2024-07-10T21:03:04.474708",
     "exception": false,
     "start_time": "2024-07-10T21:03:04.453494",
     "status": "completed"
    },
    "tags": []
   },
   "outputs": [
    {
     "data": {
      "text/plain": [
       "'ham'"
      ]
     },
     "execution_count": 5,
     "metadata": {},
     "output_type": "execute_result"
    }
   ],
   "source": [
    "df[\"Category\"][1]"
   ]
  },
  {
   "cell_type": "code",
   "execution_count": 6,
   "id": "505c6a5f",
   "metadata": {
    "execution": {
     "iopub.execute_input": "2024-07-10T21:03:04.497608Z",
     "iopub.status.busy": "2024-07-10T21:03:04.497197Z",
     "iopub.status.idle": "2024-07-10T21:03:04.787586Z",
     "shell.execute_reply": "2024-07-10T21:03:04.786431Z"
    },
    "papermill": {
     "duration": 0.304982,
     "end_time": "2024-07-10T21:03:04.790298",
     "exception": false,
     "start_time": "2024-07-10T21:03:04.485316",
     "status": "completed"
    },
    "tags": []
   },
   "outputs": [
    {
     "data": {
      "image/png": "[encoded data removed]",
      "text/plain": [
       "<Figure size 640x480 with 1 Axes>"
      ]
     },
     "metadata": {},
     "output_type": "display_data"
    }
   ],
   "source": [
    "sns.countplot(x=\"Category\",data=df)\n",
    "plt.title(\"Distribution number between spam and ham\")\n",
    "plt.show()"
   ]
  },
  {
   "cell_type": "code",
   "execution_count": 7,
   "id": "78723f95",
   "metadata": {
    "execution": {
     "iopub.execute_input": "2024-07-10T21:03:04.814814Z",
     "iopub.status.busy": "2024-07-10T21:03:04.814421Z",
     "iopub.status.idle": "2024-07-10T21:03:04.821746Z",
     "shell.execute_reply": "2024-07-10T21:03:04.820548Z"
    },
    "papermill": {
     "duration": 0.022927,
     "end_time": "2024-07-10T21:03:04.824520",
     "exception": false,
     "start_time": "2024-07-10T21:03:04.801593",
     "status": "completed"
    },
    "tags": []
   },
   "outputs": [
    {
     "data": {
      "text/plain": [
       "'!\"#$%&\\'()*+,-./:;<=>?@[\\\\]^_`{|}~'"
      ]
     },
     "execution_count": 7,
     "metadata": {},
     "output_type": "execute_result"
    }
   ],
   "source": [
    "## delete punctuation\n",
    "\n",
    "punctuations=string.punctuation\n",
    "punctuations"
   ]
  },
  {
   "cell_type": "code",
   "execution_count": 8,
   "id": "f01920c4",
   "metadata": {
    "execution": {
     "iopub.execute_input": "2024-07-10T21:03:04.848768Z",
     "iopub.status.busy": "2024-07-10T21:03:04.848379Z",
     "iopub.status.idle": "2024-07-10T21:03:04.853978Z",
     "shell.execute_reply": "2024-07-10T21:03:04.852835Z"
    },
    "papermill": {
     "duration": 0.020664,
     "end_time": "2024-07-10T21:03:04.856417",
     "exception": false,
     "start_time": "2024-07-10T21:03:04.835753",
     "status": "completed"
    },
    "tags": []
   },
   "outputs": [],
   "source": [
    "def remove_punctuation(Message):\n",
    "    z=str.maketrans(\"\",\"\",punctuations)\n",
    "    return Message.translate(z)"
   ]
  },
  {
   "cell_type": "code",
   "execution_count": 9,
   "id": "78bfd184",
   "metadata": {
    "execution": {
     "iopub.execute_input": "2024-07-10T21:03:04.881634Z",
     "iopub.status.busy": "2024-07-10T21:03:04.880996Z",
     "iopub.status.idle": "2024-07-10T21:03:04.930619Z",
     "shell.execute_reply": "2024-07-10T21:03:04.929066Z"
    },
    "papermill": {
     "duration": 0.065354,
     "end_time": "2024-07-10T21:03:04.933366",
     "exception": false,
     "start_time": "2024-07-10T21:03:04.868012",
     "status": "completed"
    },
    "tags": []
   },
   "outputs": [
    {
     "data": {
      "text/html": [
       "<div>\n",
       "<style scoped>\n",
       "    .dataframe tbody tr th:only-of-type {\n",
       "        vertical-align: middle;\n",
       "    }\n",
       "\n",
       "    .dataframe tbody tr th {\n",
       "        vertical-align: top;\n",
       "    }\n",
       "\n",
       "    .dataframe thead th {\n",
       "        text-align: right;\n",
       "    }\n",
       "</style>\n",
       "<table border=\"1\" class=\"dataframe\">\n",
       "  <thead>\n",
       "    <tr style=\"text-align: right;\">\n",
       "      <th></th>\n",
       "      <th>Category</th>\n",
       "      <th>Message</th>\n",
       "    </tr>\n",
       "  </thead>\n",
       "  <tbody>\n",
       "    <tr>\n",
       "      <th>0</th>\n",
       "      <td>ham</td>\n",
       "      <td>Go until jurong point crazy Available only in ...</td>\n",
       "    </tr>\n",
       "    <tr>\n",
       "      <th>1</th>\n",
       "      <td>ham</td>\n",
       "      <td>Ok lar Joking wif u oni</td>\n",
       "    </tr>\n",
       "    <tr>\n",
       "      <th>2</th>\n",
       "      <td>spam</td>\n",
       "      <td>Free entry in 2 a wkly comp to win FA Cup fina...</td>\n",
       "    </tr>\n",
       "    <tr>\n",
       "      <th>3</th>\n",
       "      <td>ham</td>\n",
       "      <td>U dun say so early hor U c already then say</td>\n",
       "    </tr>\n",
       "    <tr>\n",
       "      <th>4</th>\n",
       "      <td>ham</td>\n",
       "      <td>Nah I dont think he goes to usf he lives aroun...</td>\n",
       "    </tr>\n",
       "    <tr>\n",
       "      <th>5</th>\n",
       "      <td>spam</td>\n",
       "      <td>FreeMsg Hey there darling its been 3 weeks now...</td>\n",
       "    </tr>\n",
       "    <tr>\n",
       "      <th>6</th>\n",
       "      <td>ham</td>\n",
       "      <td>Even my brother is not like to speak with me T...</td>\n",
       "    </tr>\n",
       "    <tr>\n",
       "      <th>7</th>\n",
       "      <td>ham</td>\n",
       "      <td>As per your request Melle Melle Oru Minnaminun...</td>\n",
       "    </tr>\n",
       "    <tr>\n",
       "      <th>8</th>\n",
       "      <td>spam</td>\n",
       "      <td>WINNER As a valued network customer you have b...</td>\n",
       "    </tr>\n",
       "    <tr>\n",
       "      <th>9</th>\n",
       "      <td>spam</td>\n",
       "      <td>Had your mobile 11 months or more U R entitled...</td>\n",
       "    </tr>\n",
       "  </tbody>\n",
       "</table>\n",
       "</div>"
      ],
      "text/plain": [
       "  Category                                            Message\n",
       "0      ham  Go until jurong point crazy Available only in ...\n",
       "1      ham                            Ok lar Joking wif u oni\n",
       "2     spam  Free entry in 2 a wkly comp to win FA Cup fina...\n",
       "3      ham        U dun say so early hor U c already then say\n",
       "4      ham  Nah I dont think he goes to usf he lives aroun...\n",
       "5     spam  FreeMsg Hey there darling its been 3 weeks now...\n",
       "6      ham  Even my brother is not like to speak with me T...\n",
       "7      ham  As per your request Melle Melle Oru Minnaminun...\n",
       "8     spam  WINNER As a valued network customer you have b...\n",
       "9     spam  Had your mobile 11 months or more U R entitled..."
      ]
     },
     "execution_count": 9,
     "metadata": {},
     "output_type": "execute_result"
    }
   ],
   "source": [
    "df[\"Message\"]=df[\"Message\"].apply(lambda x: remove_punctuation(x))\n",
    "df.head(10)"
   ]
  },
  {
   "cell_type": "code",
   "execution_count": 10,
   "id": "7dafc545",
   "metadata": {
    "execution": {
     "iopub.execute_input": "2024-07-10T21:03:04.958951Z",
     "iopub.status.busy": "2024-07-10T21:03:04.957765Z",
     "iopub.status.idle": "2024-07-10T21:03:04.965851Z",
     "shell.execute_reply": "2024-07-10T21:03:04.964783Z"
    },
    "papermill": {
     "duration": 0.023136,
     "end_time": "2024-07-10T21:03:04.968090",
     "exception": false,
     "start_time": "2024-07-10T21:03:04.944954",
     "status": "completed"
    },
    "tags": []
   },
   "outputs": [
    {
     "data": {
      "text/plain": [
       "'Free entry in 2 a wkly comp to win FA Cup final tkts 21st May 2005 Text FA to 87121 to receive entry questionstd txt rateTCs apply 08452810075over18s'"
      ]
     },
     "execution_count": 10,
     "metadata": {},
     "output_type": "execute_result"
    }
   ],
   "source": [
    "df[\"Message\"][2]"
   ]
  },
  {
   "cell_type": "code",
   "execution_count": 11,
   "id": "a84bc756",
   "metadata": {
    "execution": {
     "iopub.execute_input": "2024-07-10T21:03:04.993313Z",
     "iopub.status.busy": "2024-07-10T21:03:04.992887Z",
     "iopub.status.idle": "2024-07-10T21:03:04.999925Z",
     "shell.execute_reply": "2024-07-10T21:03:04.998598Z"
    },
    "papermill": {
     "duration": 0.02315,
     "end_time": "2024-07-10T21:03:05.002741",
     "exception": false,
     "start_time": "2024-07-10T21:03:04.979591",
     "status": "completed"
    },
    "tags": []
   },
   "outputs": [],
   "source": [
    "## remove stopwords\n",
    "\n",
    "def remove_stopwords(Message):\n",
    "    stop_words=stopwords.words(\"english\")\n",
    "    \n",
    "    imp_words=[]\n",
    "    \n",
    "    for word in str(Message).split():\n",
    "        word.lower()\n",
    "        \n",
    "        if word not in stop_words:\n",
    "            imp_words.append(word)\n",
    "            \n",
    "    output=\" \".join(imp_words)\n",
    "    return output"
   ]
  },
  {
   "cell_type": "code",
   "execution_count": 12,
   "id": "c8beb06b",
   "metadata": {
    "execution": {
     "iopub.execute_input": "2024-07-10T21:03:05.028335Z",
     "iopub.status.busy": "2024-07-10T21:03:05.027898Z",
     "iopub.status.idle": "2024-07-10T21:03:06.075761Z",
     "shell.execute_reply": "2024-07-10T21:03:06.074597Z"
    },
    "papermill": {
     "duration": 1.063378,
     "end_time": "2024-07-10T21:03:06.078172",
     "exception": false,
     "start_time": "2024-07-10T21:03:05.014794",
     "status": "completed"
    },
    "tags": []
   },
   "outputs": [
    {
     "data": {
      "text/html": [
       "<div>\n",
       "<style scoped>\n",
       "    .dataframe tbody tr th:only-of-type {\n",
       "        vertical-align: middle;\n",
       "    }\n",
       "\n",
       "    .dataframe tbody tr th {\n",
       "        vertical-align: top;\n",
       "    }\n",
       "\n",
       "    .dataframe thead th {\n",
       "        text-align: right;\n",
       "    }\n",
       "</style>\n",
       "<table border=\"1\" class=\"dataframe\">\n",
       "  <thead>\n",
       "    <tr style=\"text-align: right;\">\n",
       "      <th></th>\n",
       "      <th>Category</th>\n",
       "      <th>Message</th>\n",
       "    </tr>\n",
       "  </thead>\n",
       "  <tbody>\n",
       "    <tr>\n",
       "      <th>0</th>\n",
       "      <td>ham</td>\n",
       "      <td>Go jurong point crazy Available bugis n great ...</td>\n",
       "    </tr>\n",
       "    <tr>\n",
       "      <th>1</th>\n",
       "      <td>ham</td>\n",
       "      <td>Ok lar Joking wif u oni</td>\n",
       "    </tr>\n",
       "    <tr>\n",
       "      <th>2</th>\n",
       "      <td>spam</td>\n",
       "      <td>Free entry 2 wkly comp win FA Cup final tkts 2...</td>\n",
       "    </tr>\n",
       "    <tr>\n",
       "      <th>3</th>\n",
       "      <td>ham</td>\n",
       "      <td>U dun say early hor U c already say</td>\n",
       "    </tr>\n",
       "    <tr>\n",
       "      <th>4</th>\n",
       "      <td>ham</td>\n",
       "      <td>Nah I dont think goes usf lives around though</td>\n",
       "    </tr>\n",
       "    <tr>\n",
       "      <th>5</th>\n",
       "      <td>spam</td>\n",
       "      <td>FreeMsg Hey darling 3 weeks word back Id like ...</td>\n",
       "    </tr>\n",
       "    <tr>\n",
       "      <th>6</th>\n",
       "      <td>ham</td>\n",
       "      <td>Even brother like speak They treat like aids p...</td>\n",
       "    </tr>\n",
       "    <tr>\n",
       "      <th>7</th>\n",
       "      <td>ham</td>\n",
       "      <td>As per request Melle Melle Oru Minnaminunginte...</td>\n",
       "    </tr>\n",
       "    <tr>\n",
       "      <th>8</th>\n",
       "      <td>spam</td>\n",
       "      <td>WINNER As valued network customer selected rec...</td>\n",
       "    </tr>\n",
       "    <tr>\n",
       "      <th>9</th>\n",
       "      <td>spam</td>\n",
       "      <td>Had mobile 11 months U R entitled Update lates...</td>\n",
       "    </tr>\n",
       "  </tbody>\n",
       "</table>\n",
       "</div>"
      ],
      "text/plain": [
       "  Category                                            Message\n",
       "0      ham  Go jurong point crazy Available bugis n great ...\n",
       "1      ham                            Ok lar Joking wif u oni\n",
       "2     spam  Free entry 2 wkly comp win FA Cup final tkts 2...\n",
       "3      ham                U dun say early hor U c already say\n",
       "4      ham      Nah I dont think goes usf lives around though\n",
       "5     spam  FreeMsg Hey darling 3 weeks word back Id like ...\n",
       "6      ham  Even brother like speak They treat like aids p...\n",
       "7      ham  As per request Melle Melle Oru Minnaminunginte...\n",
       "8     spam  WINNER As valued network customer selected rec...\n",
       "9     spam  Had mobile 11 months U R entitled Update lates..."
      ]
     },
     "execution_count": 12,
     "metadata": {},
     "output_type": "execute_result"
    }
   ],
   "source": [
    "df[\"Message\"]=df[\"Message\"].apply(lambda Message: remove_stopwords(Message))\n",
    "df.head(10)"
   ]
  },
  {
   "cell_type": "code",
   "execution_count": 13,
   "id": "58d46d40",
   "metadata": {
    "execution": {
     "iopub.execute_input": "2024-07-10T21:03:06.103688Z",
     "iopub.status.busy": "2024-07-10T21:03:06.103253Z",
     "iopub.status.idle": "2024-07-10T21:03:06.110348Z",
     "shell.execute_reply": "2024-07-10T21:03:06.109233Z"
    },
    "papermill": {
     "duration": 0.022633,
     "end_time": "2024-07-10T21:03:06.112781",
     "exception": false,
     "start_time": "2024-07-10T21:03:06.090148",
     "status": "completed"
    },
    "tags": []
   },
   "outputs": [
    {
     "data": {
      "text/plain": [
       "'Ok lar Joking wif u oni'"
      ]
     },
     "execution_count": 13,
     "metadata": {},
     "output_type": "execute_result"
    }
   ],
   "source": [
    "df[\"Message\"][1]"
   ]
  },
  {
   "cell_type": "code",
   "execution_count": 14,
   "id": "2a3aeb0b",
   "metadata": {
    "execution": {
     "iopub.execute_input": "2024-07-10T21:03:06.139313Z",
     "iopub.status.busy": "2024-07-10T21:03:06.138205Z",
     "iopub.status.idle": "2024-07-10T21:03:06.150813Z",
     "shell.execute_reply": "2024-07-10T21:03:06.149483Z"
    },
    "papermill": {
     "duration": 0.028314,
     "end_time": "2024-07-10T21:03:06.153119",
     "exception": false,
     "start_time": "2024-07-10T21:03:06.124805",
     "status": "completed"
    },
    "tags": []
   },
   "outputs": [
    {
     "data": {
      "text/plain": [
       "0       0\n",
       "1       0\n",
       "2       1\n",
       "3       0\n",
       "4       0\n",
       "       ..\n",
       "5567    1\n",
       "5568    0\n",
       "5569    0\n",
       "5570    0\n",
       "5571    0\n",
       "Name: Category, Length: 5572, dtype: int64"
      ]
     },
     "execution_count": 14,
     "metadata": {},
     "output_type": "execute_result"
    }
   ],
   "source": [
    "encoder=LabelEncoder()\n",
    "df[\"Category\"]=encoder.fit_transform(df[\"Category\"])\n",
    "df[\"Category\"]"
   ]
  },
  {
   "cell_type": "code",
   "execution_count": 15,
   "id": "1140ff42",
   "metadata": {
    "execution": {
     "iopub.execute_input": "2024-07-10T21:03:06.179696Z",
     "iopub.status.busy": "2024-07-10T21:03:06.178680Z",
     "iopub.status.idle": "2024-07-10T21:03:06.185906Z",
     "shell.execute_reply": "2024-07-10T21:03:06.184793Z"
    },
    "papermill": {
     "duration": 0.023227,
     "end_time": "2024-07-10T21:03:06.188499",
     "exception": false,
     "start_time": "2024-07-10T21:03:06.165272",
     "status": "completed"
    },
    "tags": []
   },
   "outputs": [
    {
     "data": {
      "text/plain": [
       "0"
      ]
     },
     "execution_count": 15,
     "metadata": {},
     "output_type": "execute_result"
    }
   ],
   "source": [
    "df[\"Category\"][1]"
   ]
  },
  {
   "cell_type": "code",
   "execution_count": 16,
   "id": "0cdf3845",
   "metadata": {
    "execution": {
     "iopub.execute_input": "2024-07-10T21:03:06.214983Z",
     "iopub.status.busy": "2024-07-10T21:03:06.214579Z",
     "iopub.status.idle": "2024-07-10T21:03:06.225066Z",
     "shell.execute_reply": "2024-07-10T21:03:06.223876Z"
    },
    "papermill": {
     "duration": 0.026994,
     "end_time": "2024-07-10T21:03:06.227964",
     "exception": false,
     "start_time": "2024-07-10T21:03:06.200970",
     "status": "completed"
    },
    "tags": []
   },
   "outputs": [],
   "source": [
    "x_train,x_test,y_train,y_test=train_test_split(df[\"Message\"],\n",
    "                                              df[\"Category\"],\n",
    "                                              test_size=0.2,\n",
    "                                              random_state=42)"
   ]
  },
  {
   "cell_type": "code",
   "execution_count": 17,
   "id": "6e8c5bb3",
   "metadata": {
    "execution": {
     "iopub.execute_input": "2024-07-10T21:03:06.255031Z",
     "iopub.status.busy": "2024-07-10T21:03:06.254600Z",
     "iopub.status.idle": "2024-07-10T21:03:06.470209Z",
     "shell.execute_reply": "2024-07-10T21:03:06.469171Z"
    },
    "papermill": {
     "duration": 0.232325,
     "end_time": "2024-07-10T21:03:06.472996",
     "exception": false,
     "start_time": "2024-07-10T21:03:06.240671",
     "status": "completed"
    },
    "tags": []
   },
   "outputs": [],
   "source": [
    "tokenizer=Tokenizer()\n",
    "tokenizer.fit_on_texts(x_train)\n",
    "\n",
    "train_sequences=tokenizer.texts_to_sequences(x_train)\n",
    "test_sequences=tokenizer.texts_to_sequences(x_test)\n",
    "\n",
    "max_len=100\n"
   ]
  },
  {
   "cell_type": "code",
   "execution_count": 18,
   "id": "832c2fed",
   "metadata": {
    "execution": {
     "iopub.execute_input": "2024-07-10T21:03:06.499178Z",
     "iopub.status.busy": "2024-07-10T21:03:06.498783Z",
     "iopub.status.idle": "2024-07-10T21:03:06.527458Z",
     "shell.execute_reply": "2024-07-10T21:03:06.526469Z"
    },
    "papermill": {
     "duration": 0.044824,
     "end_time": "2024-07-10T21:03:06.530146",
     "exception": false,
     "start_time": "2024-07-10T21:03:06.485322",
     "status": "completed"
    },
    "tags": []
   },
   "outputs": [],
   "source": [
    "train_sequences=pad_sequences(train_sequences,\n",
    "                             maxlen=max_len,\n",
    "                             padding=\"post\",\n",
    "                             truncating=\"post\")"
   ]
  },
  {
   "cell_type": "code",
   "execution_count": 19,
   "id": "4d279edd",
   "metadata": {
    "execution": {
     "iopub.execute_input": "2024-07-10T21:03:06.556553Z",
     "iopub.status.busy": "2024-07-10T21:03:06.556138Z",
     "iopub.status.idle": "2024-07-10T21:03:06.568562Z",
     "shell.execute_reply": "2024-07-10T21:03:06.567304Z"
    },
    "papermill": {
     "duration": 0.028767,
     "end_time": "2024-07-10T21:03:06.571376",
     "exception": false,
     "start_time": "2024-07-10T21:03:06.542609",
     "status": "completed"
    },
    "tags": []
   },
   "outputs": [],
   "source": [
    "test_sequences=pad_sequences(test_sequences,\n",
    "                            maxlen=max_len,\n",
    "                            padding=\"post\",\n",
    "                            truncating=\"post\")"
   ]
  },
  {
   "cell_type": "code",
   "execution_count": 20,
   "id": "7f041002",
   "metadata": {
    "execution": {
     "iopub.execute_input": "2024-07-10T21:03:06.598005Z",
     "iopub.status.busy": "2024-07-10T21:03:06.597531Z",
     "iopub.status.idle": "2024-07-10T21:03:06.648649Z",
     "shell.execute_reply": "2024-07-10T21:03:06.647447Z"
    },
    "papermill": {
     "duration": 0.067621,
     "end_time": "2024-07-10T21:03:06.651268",
     "exception": false,
     "start_time": "2024-07-10T21:03:06.583647",
     "status": "completed"
    },
    "tags": []
   },
   "outputs": [
    {
     "name": "stderr",
     "output_type": "stream",
     "text": [
      "/opt/conda/lib/python3.10/site-packages/keras/src/layers/core/embedding.py:90: UserWarning: Argument `input_length` is deprecated. Just remove it.\n",
      "  warnings.warn(\n"
     ]
    }
   ],
   "source": [
    "model=tf.keras.models.Sequential()\n",
    "\n",
    "model.add(tf.keras.layers.Embedding(input_dim=len(tokenizer.word_index)+1,\n",
    "                                   output_dim=32,\n",
    "                                   input_length=max_len))\n",
    "\n",
    "model.add(tf.keras.layers.LSTM(17))\n",
    "model.add(tf.keras.layers.Dense(64,activation=\"relu\"))\n",
    "model.add(tf.keras.layers.Dense(1,activation=\"sigmoid\"))"
   ]
  },
  {
   "cell_type": "code",
   "execution_count": 21,
   "id": "e2dc0eee",
   "metadata": {
    "execution": {
     "iopub.execute_input": "2024-07-10T21:03:06.678257Z",
     "iopub.status.busy": "2024-07-10T21:03:06.677856Z",
     "iopub.status.idle": "2024-07-10T21:03:06.699089Z",
     "shell.execute_reply": "2024-07-10T21:03:06.698003Z"
    },
    "papermill": {
     "duration": 0.037741,
     "end_time": "2024-07-10T21:03:06.701501",
     "exception": false,
     "start_time": "2024-07-10T21:03:06.663760",
     "status": "completed"
    },
    "tags": []
   },
   "outputs": [
    {
     "data": {
      "text/html": [
       "<pre style=\"white-space:pre;overflow-x:auto;line-height:normal;font-family:Menlo,'DejaVu Sans Mono',consolas,'Courier New',monospace\"><span style=\"font-weight: bold\">Model: \"sequential\"</span>\n",
       "</pre>\n"
      ],
      "text/plain": [
       "\u001b[1mModel: \"sequential\"\u001b[0m\n"
      ]
     },
     "metadata": {},
     "output_type": "display_data"
    },
    {
     "data": {
      "text/html": [
       "<pre style=\"white-space:pre;overflow-x:auto;line-height:normal;font-family:Menlo,'DejaVu Sans Mono',consolas,'Courier New',monospace\">┏━━━━━━━━━━━━━━━━━━━━━━━━━━━━━━━━━┳━━━━━━━━━━━━━━━━━━━━━━━━┳━━━━━━━━━━━━━━━┓\n",
       "┃<span style=\"font-weight: bold\"> Layer (type)                    </span>┃<span style=\"font-weight: bold\"> Output Shape           </span>┃<span style=\"font-weight: bold\">       Param # </span>┃\n",
       "┡━━━━━━━━━━━━━━━━━━━━━━━━━━━━━━━━━╇━━━━━━━━━━━━━━━━━━━━━━━━╇━━━━━━━━━━━━━━━┩\n",
       "│ embedding (<span style=\"color: #0087ff; text-decoration-color: #0087ff\">Embedding</span>)           │ ?                      │   <span style=\"color: #00af00; text-decoration-color: #00af00\">0</span> (unbuilt) │\n",
       "├─────────────────────────────────┼────────────────────────┼───────────────┤\n",
       "│ lstm (<span style=\"color: #0087ff; text-decoration-color: #0087ff\">LSTM</span>)                     │ ?                      │   <span style=\"color: #00af00; text-decoration-color: #00af00\">0</span> (unbuilt) │\n",
       "├─────────────────────────────────┼────────────────────────┼───────────────┤\n",
       "│ dense (<span style=\"color: #0087ff; text-decoration-color: #0087ff\">Dense</span>)                   │ ?                      │   <span style=\"color: #00af00; text-decoration-color: #00af00\">0</span> (unbuilt) │\n",
       "├─────────────────────────────────┼────────────────────────┼───────────────┤\n",
       "│ dense_1 (<span style=\"color: #0087ff; text-decoration-color: #0087ff\">Dense</span>)                 │ ?                      │   <span style=\"color: #00af00; text-decoration-color: #00af00\">0</span> (unbuilt) │\n",
       "└─────────────────────────────────┴────────────────────────┴───────────────┘\n",
       "</pre>\n"
      ],
      "text/plain": [
       "┏━━━━━━━━━━━━━━━━━━━━━━━━━━━━━━━━━┳━━━━━━━━━━━━━━━━━━━━━━━━┳━━━━━━━━━━━━━━━┓\n",
       "┃\u001b[1m \u001b[0m\u001b[1mLayer (type)                   \u001b[0m\u001b[1m \u001b[0m┃\u001b[1m \u001b[0m\u001b[1mOutput Shape          \u001b[0m\u001b[1m \u001b[0m┃\u001b[1m \u001b[0m\u001b[1m      Param #\u001b[0m\u001b[1m \u001b[0m┃\n",
       "┡━━━━━━━━━━━━━━━━━━━━━━━━━━━━━━━━━╇━━━━━━━━━━━━━━━━━━━━━━━━╇━━━━━━━━━━━━━━━┩\n",
       "│ embedding (\u001b[38;5;33mEmbedding\u001b[0m)           │ ?                      │   \u001b[38;5;34m0\u001b[0m (unbuilt) │\n",
       "├─────────────────────────────────┼────────────────────────┼───────────────┤\n",
       "│ lstm (\u001b[38;5;33mLSTM\u001b[0m)                     │ ?                      │   \u001b[38;5;34m0\u001b[0m (unbuilt) │\n",
       "├─────────────────────────────────┼────────────────────────┼───────────────┤\n",
       "│ dense (\u001b[38;5;33mDense\u001b[0m)                   │ ?                      │   \u001b[38;5;34m0\u001b[0m (unbuilt) │\n",
       "├─────────────────────────────────┼────────────────────────┼───────────────┤\n",
       "│ dense_1 (\u001b[38;5;33mDense\u001b[0m)                 │ ?                      │   \u001b[38;5;34m0\u001b[0m (unbuilt) │\n",
       "└─────────────────────────────────┴────────────────────────┴───────────────┘\n"
      ]
     },
     "metadata": {},
     "output_type": "display_data"
    },
    {
     "data": {
      "text/html": [
       "<pre style=\"white-space:pre;overflow-x:auto;line-height:normal;font-family:Menlo,'DejaVu Sans Mono',consolas,'Courier New',monospace\"><span style=\"font-weight: bold\"> Total params: </span><span style=\"color: #00af00; text-decoration-color: #00af00\">0</span> (0.00 B)\n",
       "</pre>\n"
      ],
      "text/plain": [
       "\u001b[1m Total params: \u001b[0m\u001b[38;5;34m0\u001b[0m (0.00 B)\n"
      ]
     },
     "metadata": {},
     "output_type": "display_data"
    },
    {
     "data": {
      "text/html": [
       "<pre style=\"white-space:pre;overflow-x:auto;line-height:normal;font-family:Menlo,'DejaVu Sans Mono',consolas,'Courier New',monospace\"><span style=\"font-weight: bold\"> Trainable params: </span><span style=\"color: #00af00; text-decoration-color: #00af00\">0</span> (0.00 B)\n",
       "</pre>\n"
      ],
      "text/plain": [
       "\u001b[1m Trainable params: \u001b[0m\u001b[38;5;34m0\u001b[0m (0.00 B)\n"
      ]
     },
     "metadata": {},
     "output_type": "display_data"
    },
    {
     "data": {
      "text/html": [
       "<pre style=\"white-space:pre;overflow-x:auto;line-height:normal;font-family:Menlo,'DejaVu Sans Mono',consolas,'Courier New',monospace\"><span style=\"font-weight: bold\"> Non-trainable params: </span><span style=\"color: #00af00; text-decoration-color: #00af00\">0</span> (0.00 B)\n",
       "</pre>\n"
      ],
      "text/plain": [
       "\u001b[1m Non-trainable params: \u001b[0m\u001b[38;5;34m0\u001b[0m (0.00 B)\n"
      ]
     },
     "metadata": {},
     "output_type": "display_data"
    }
   ],
   "source": [
    "model.summary()"
   ]
  },
  {
   "cell_type": "code",
   "execution_count": 22,
   "id": "3f40cb46",
   "metadata": {
    "execution": {
     "iopub.execute_input": "2024-07-10T21:03:06.730890Z",
     "iopub.status.busy": "2024-07-10T21:03:06.729960Z",
     "iopub.status.idle": "2024-07-10T21:03:06.751104Z",
     "shell.execute_reply": "2024-07-10T21:03:06.749334Z"
    },
    "papermill": {
     "duration": 0.040429,
     "end_time": "2024-07-10T21:03:06.755500",
     "exception": false,
     "start_time": "2024-07-10T21:03:06.715071",
     "status": "completed"
    },
    "tags": []
   },
   "outputs": [],
   "source": [
    "model.compile(loss=tf.keras.losses.BinaryCrossentropy,\n",
    "             optimizer=\"adam\",metrics=[\"accuracy\"])"
   ]
  },
  {
   "cell_type": "code",
   "execution_count": 23,
   "id": "803746c0",
   "metadata": {
    "execution": {
     "iopub.execute_input": "2024-07-10T21:03:06.804805Z",
     "iopub.status.busy": "2024-07-10T21:03:06.804066Z",
     "iopub.status.idle": "2024-07-10T21:03:06.810516Z",
     "shell.execute_reply": "2024-07-10T21:03:06.809175Z"
    },
    "papermill": {
     "duration": 0.035687,
     "end_time": "2024-07-10T21:03:06.813803",
     "exception": false,
     "start_time": "2024-07-10T21:03:06.778116",
     "status": "completed"
    },
    "tags": []
   },
   "outputs": [],
   "source": [
    "es=EarlyStopping(patience=3,\n",
    "                monitor=\"val_accuracy\",\n",
    "                restore_best_weights=True,\n",
    "                mode=\"max\")"
   ]
  },
  {
   "cell_type": "code",
   "execution_count": 24,
   "id": "99f9aab9",
   "metadata": {
    "execution": {
     "iopub.execute_input": "2024-07-10T21:03:06.855180Z",
     "iopub.status.busy": "2024-07-10T21:03:06.854796Z",
     "iopub.status.idle": "2024-07-10T21:03:06.860668Z",
     "shell.execute_reply": "2024-07-10T21:03:06.859550Z"
    },
    "papermill": {
     "duration": 0.0276,
     "end_time": "2024-07-10T21:03:06.863002",
     "exception": false,
     "start_time": "2024-07-10T21:03:06.835402",
     "status": "completed"
    },
    "tags": []
   },
   "outputs": [],
   "source": [
    "lr=ReduceLROnPlateau(patience=2,\n",
    "                    monitor=\"val_loss\",\n",
    "                    factor=0.5,\n",
    "                    verbose=0)"
   ]
  },
  {
   "cell_type": "code",
   "execution_count": 25,
   "id": "6f265baf",
   "metadata": {
    "execution": {
     "iopub.execute_input": "2024-07-10T21:03:06.893360Z",
     "iopub.status.busy": "2024-07-10T21:03:06.892919Z",
     "iopub.status.idle": "2024-07-10T21:03:31.417992Z",
     "shell.execute_reply": "2024-07-10T21:03:31.416875Z"
    },
    "papermill": {
     "duration": 24.544355,
     "end_time": "2024-07-10T21:03:31.420845",
     "exception": false,
     "start_time": "2024-07-10T21:03:06.876490",
     "status": "completed"
    },
    "tags": []
   },
   "outputs": [
    {
     "name": "stdout",
     "output_type": "stream",
     "text": [
      "Epoch 1/30\n",
      "\u001b[1m140/140\u001b[0m \u001b[32m━━━━━━━━━━━━━━━━━━━━\u001b[0m\u001b[37m\u001b[0m \u001b[1m8s\u001b[0m 39ms/step - accuracy: 0.8419 - loss: 0.4799 - val_accuracy: 0.8664 - val_loss: 0.3935 - learning_rate: 0.0010\n",
      "Epoch 2/30\n",
      "\u001b[1m140/140\u001b[0m \u001b[32m━━━━━━━━━━━━━━━━━━━━\u001b[0m\u001b[37m\u001b[0m \u001b[1m5s\u001b[0m 37ms/step - accuracy: 0.8636 - loss: 0.3988 - val_accuracy: 0.8664 - val_loss: 0.3932 - learning_rate: 0.0010\n",
      "Epoch 3/30\n",
      "\u001b[1m140/140\u001b[0m \u001b[32m━━━━━━━━━━━━━━━━━━━━\u001b[0m\u001b[37m\u001b[0m \u001b[1m5s\u001b[0m 38ms/step - accuracy: 0.8698 - loss: 0.3876 - val_accuracy: 0.8664 - val_loss: 0.3933 - learning_rate: 0.0010\n",
      "Epoch 4/30\n",
      "\u001b[1m140/140\u001b[0m \u001b[32m━━━━━━━━━━━━━━━━━━━━\u001b[0m\u001b[37m\u001b[0m \u001b[1m5s\u001b[0m 39ms/step - accuracy: 0.8717 - loss: 0.3843 - val_accuracy: 0.8664 - val_loss: 0.3933 - learning_rate: 0.0010\n"
     ]
    }
   ],
   "source": [
    "history=model.fit(train_sequences,y_train,\n",
    "                 validation_data=(test_sequences,y_test),\n",
    "                 epochs=30,\n",
    "                 batch_size=32,\n",
    "                 callbacks=[lr,es])"
   ]
  },
  {
   "cell_type": "code",
   "execution_count": 26,
   "id": "98a903c7",
   "metadata": {
    "execution": {
     "iopub.execute_input": "2024-07-10T21:03:31.503896Z",
     "iopub.status.busy": "2024-07-10T21:03:31.503482Z",
     "iopub.status.idle": "2024-07-10T21:03:31.951563Z",
     "shell.execute_reply": "2024-07-10T21:03:31.950164Z"
    },
    "papermill": {
     "duration": 0.492757,
     "end_time": "2024-07-10T21:03:31.954159",
     "exception": false,
     "start_time": "2024-07-10T21:03:31.461402",
     "status": "completed"
    },
    "tags": []
   },
   "outputs": [
    {
     "name": "stdout",
     "output_type": "stream",
     "text": [
      "\u001b[1m35/35\u001b[0m \u001b[32m━━━━━━━━━━━━━━━━━━━━\u001b[0m\u001b[37m\u001b[0m \u001b[1m0s\u001b[0m 10ms/step - accuracy: 0.8793 - loss: 0.3702\n",
      "0.3935236632823944\n",
      "0.8663676977157593\n"
     ]
    }
   ],
   "source": [
    "test_accuracy,test_loss = model.evaluate(test_sequences,y_test)\n",
    "\n",
    "print(test_accuracy)\n",
    "print(test_loss)"
   ]
  },
  {
   "cell_type": "code",
   "execution_count": 27,
   "id": "8e631d51",
   "metadata": {
    "execution": {
     "iopub.execute_input": "2024-07-10T21:03:32.058871Z",
     "iopub.status.busy": "2024-07-10T21:03:32.058448Z",
     "iopub.status.idle": "2024-07-10T21:03:32.594640Z",
     "shell.execute_reply": "2024-07-10T21:03:32.593357Z"
    },
    "papermill": {
     "duration": 0.587497,
     "end_time": "2024-07-10T21:03:32.597248",
     "exception": false,
     "start_time": "2024-07-10T21:03:32.009751",
     "status": "completed"
    },
    "tags": []
   },
   "outputs": [
    {
     "data": {
      "image/png": "[encoded data removed]",
      "text/plain": [
       "<Figure size 640x480 with 1 Axes>"
      ]
     },
     "metadata": {},
     "output_type": "display_data"
    }
   ],
   "source": [
    "plt.plot(history.history[\"accuracy\"],label=\"accuracy\")\n",
    "plt.plot(history.history[\"val_loss\"],label=\"val_loss\")\n",
    "plt.legend()\n",
    "plt.show()"
   ]
  },
  {
   "cell_type": "code",
   "execution_count": 28,
   "id": "3f4dbcf5",
   "metadata": {
    "execution": {
     "iopub.execute_input": "2024-07-10T21:03:32.684513Z",
     "iopub.status.busy": "2024-07-10T21:03:32.684096Z",
     "iopub.status.idle": "2024-07-10T21:03:32.962627Z",
     "shell.execute_reply": "2024-07-10T21:03:32.961527Z"
    },
    "papermill": {
     "duration": 0.325214,
     "end_time": "2024-07-10T21:03:32.965236",
     "exception": false,
     "start_time": "2024-07-10T21:03:32.640022",
     "status": "completed"
    },
    "tags": []
   },
   "outputs": [
    {
     "data": {
      "image/png": "[encoded data removed]",
      "text/plain": [
       "<Figure size 640x480 with 1 Axes>"
      ]
     },
     "metadata": {},
     "output_type": "display_data"
    }
   ],
   "source": [
    "plt.plot(history.history[\"loss\"],label=\"loss\")\n",
    "plt.plot(history.history[\"val_loss\"],label=\"val_loss\")\n",
    "plt.legend()\n",
    "plt.show()"
   ]
  },
  {
   "cell_type": "code",
   "execution_count": null,
   "id": "cd140ff9",
   "metadata": {
    "papermill": {
     "duration": 0.042276,
     "end_time": "2024-07-10T21:03:33.052153",
     "exception": false,
     "start_time": "2024-07-10T21:03:33.009877",
     "status": "completed"
    },
    "tags": []
   },
   "outputs": [],
   "source": []
  }
 ],
 "metadata": {
  "kaggle": {
   "accelerator": "none",
   "dataSources": [
    {
     "datasetId": 3839058,
     "sourceId": 6651650,
     "sourceType": "datasetVersion"
    }
   ],
   "dockerImageVersionId": 30732,
   "isGpuEnabled": false,
   "isInternetEnabled": true,
   "language": "python",
   "sourceType": "notebook"
  },
  "kernelspec": {
   "display_name": "Python 3",
   "language": "python",
   "name": "python3"
  },
  "language_info": {
   "codemirror_mode": {
    "name": "ipython",
    "version": 3
   },
   "file_extension": ".py",
   "mimetype": "text/x-python",
   "name": "python",
   "nbconvert_exporter": "python",
   "pygments_lexer": "ipython3",
   "version": "3.10.13"
  },
  "papermill": {
   "default_parameters": {},
   "duration": 52.194146,
   "end_time": "2024-07-10T21:03:35.637027",
   "environment_variables": {},
   "exception": null,
   "input_path": "__notebook__.ipynb",
   "output_path": "__notebook__.ipynb",
   "parameters": {},
   "start_time": "2024-07-10T21:02:43.442881",
   "version": "2.5.0"
  }
 },
 "nbformat": 4,
 "nbformat_minor": 5
}
